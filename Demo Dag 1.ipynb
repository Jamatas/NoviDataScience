{
 "cells": [
  {
   "cell_type": "markdown",
   "metadata": {},
   "source": [
    "# Demo Dag 1 - Recap Python"
   ]
  },
  {
   "cell_type": "markdown",
   "metadata": {},
   "source": [
    "## Data Structures"
   ]
  },
  {
   "cell_type": "markdown",
   "metadata": {},
   "source": [
    "#### list"
   ]
  },
  {
   "cell_type": "code",
   "execution_count": 5,
   "metadata": {},
   "outputs": [
    {
     "data": {
      "text/plain": [
       "[3, 5, 2, 6, 3]"
      ]
     },
     "execution_count": 5,
     "metadata": {},
     "output_type": "execute_result"
    }
   ],
   "source": [
    "l = [3,5,2,6,3]\n",
    "l"
   ]
  },
  {
   "cell_type": "markdown",
   "metadata": {},
   "source": [
    "#### tuple"
   ]
  },
  {
   "cell_type": "code",
   "execution_count": 6,
   "metadata": {},
   "outputs": [
    {
     "data": {
      "text/plain": [
       "(83, 4, 6, 75, 7, 8, 39, 26)"
      ]
     },
     "execution_count": 6,
     "metadata": {},
     "output_type": "execute_result"
    }
   ],
   "source": [
    "t = (83,4,6,75,7,8,39,26)\n",
    "t"
   ]
  },
  {
   "cell_type": "markdown",
   "metadata": {},
   "source": [
    "#### set"
   ]
  },
  {
   "cell_type": "code",
   "execution_count": 7,
   "metadata": {},
   "outputs": [
    {
     "data": {
      "text/plain": [
       "{4, 6, 7, 8, 26, 39, 75, 83}"
      ]
     },
     "execution_count": 7,
     "metadata": {},
     "output_type": "execute_result"
    }
   ],
   "source": [
    "s = set(t)\n",
    "s"
   ]
  },
  {
   "cell_type": "markdown",
   "metadata": {},
   "source": [
    "#### dict"
   ]
  },
  {
   "cell_type": "code",
   "execution_count": 8,
   "metadata": {},
   "outputs": [
    {
     "data": {
      "text/plain": [
       "{83: 0, 4: 1, 6: 2, 75: 3, 7: 4, 8: 5, 39: 6, 26: 7}"
      ]
     },
     "execution_count": 8,
     "metadata": {},
     "output_type": "execute_result"
    }
   ],
   "source": [
    "d = dict(zip(t, range(len(t))))\n",
    "d"
   ]
  },
  {
   "cell_type": "code",
   "execution_count": 49,
   "metadata": {},
   "outputs": [
    {
     "name": "stdout",
     "output_type": "stream",
     "text": [
      "keys: [83, 4, 6, 75, 7, 8, 39, 26]\n",
      "keys: [83, 4, 6, 75, 7, 8, 39, 26]\n",
      "values: [0, 1, 2, 3, 4, 5, 6, 7]\n",
      "values: [(83, 0), (4, 1), (6, 2), (75, 3), (7, 4), (8, 5), (39, 6), (26, 7)]\n"
     ]
    }
   ],
   "source": [
    "print('keys: %s' % list(d))\n",
    "print('keys: %s' % list(d.keys()))\n",
    "print('values: %s' % list(d.values()))\n",
    "print('values: %s' % list(d.items()))"
   ]
  },
  {
   "cell_type": "code",
   "execution_count": 54,
   "metadata": {},
   "outputs": [
    {
     "name": "stdout",
     "output_type": "stream",
     "text": [
      "key: 83 met value: 0\n",
      "key: 4 met value: 1\n",
      "key: 6 met value: 2\n",
      "key: 75 met value: 3\n",
      "key: 7 met value: 4\n",
      "key: 8 met value: 5\n",
      "key: 39 met value: 6\n",
      "key: 26 met value: 7\n",
      "key: 83 met value: 0\n",
      "key: 4 met value: 1\n",
      "key: 6 met value: 2\n",
      "key: 75 met value: 3\n",
      "key: 7 met value: 4\n",
      "key: 8 met value: 5\n",
      "key: 39 met value: 6\n",
      "key: 26 met value: 7\n"
     ]
    }
   ],
   "source": [
    "for index in d:\n",
    "    print('key: %s met value: %s' % (index, d[index]))\n",
    "\n",
    "for key, value in d.items():\n",
    "    print('key: %s met value: %s' % (key, value))"
   ]
  },
  {
   "cell_type": "markdown",
   "metadata": {},
   "source": [
    "## String formatting"
   ]
  },
  {
   "cell_type": "code",
   "execution_count": 56,
   "metadata": {},
   "outputs": [
    {
     "name": "stdout",
     "output_type": "stream",
     "text": [
      "Einstein heeft een IQ van 210\n",
      "Einstein heeft een IQ van 210\n",
      "Einstein heeft een IQ van 210\n",
      "Einstein heeft een IQ van 210\n"
     ]
    }
   ],
   "source": [
    "naam = 'Einstein'\n",
    "iq = 210\n",
    "\n",
    "s = naam + ' heeft een IQ van ' + str(iq)\n",
    "print(s)\n",
    "\n",
    "s = '%s heeft een IQ van %d' % (naam, iq)\n",
    "print(s)\n",
    "\n",
    "s = '{} heeft een IQ van {}'.format(naam, iq)\n",
    "print(s)\n",
    "\n",
    "s = f'{naam} heeft een IQ van {iq}'\n",
    "print(s)"
   ]
  },
  {
   "cell_type": "code",
   "execution_count": 63,
   "metadata": {},
   "outputs": [
    {
     "name": "stdout",
     "output_type": "stream",
     "text": [
      "pi =    0.000\n",
      "pi =    3.142\n",
      "pi =    6.283\n",
      "pi =    9.425\n",
      "pi =   12.566\n",
      "pi =   15.708\n",
      "pi =   18.850\n",
      "pi =   21.991\n",
      "pi =   25.133\n",
      "pi =   28.274\n"
     ]
    }
   ],
   "source": [
    "pi = 3.14159\n",
    "for i in range(10):\n",
    "    print('pi = %8.3f' % (i * pi))"
   ]
  },
  {
   "cell_type": "markdown",
   "metadata": {},
   "source": [
    "## Functies"
   ]
  },
  {
   "cell_type": "markdown",
   "metadata": {},
   "source": [
    "#### Variadic function"
   ]
  },
  {
   "cell_type": "code",
   "execution_count": 2,
   "metadata": {},
   "outputs": [],
   "source": [
    "def hoogste(*getallen):\n",
    "    hoogste = getallen[0]\n",
    "    for getal in getallen[1:]:\n",
    "        if getal > hoogste:\n",
    "            hoogste = getal\n",
    "    return hoogste"
   ]
  },
  {
   "cell_type": "code",
   "execution_count": 10,
   "metadata": {},
   "outputs": [
    {
     "name": "stdout",
     "output_type": "stream",
     "text": [
      "30\n",
      "40\n"
     ]
    }
   ],
   "source": [
    "getal1 = 10\n",
    "getal2 = 20\n",
    "getal3 = 30\n",
    "getal4 = 40\n",
    "\n",
    "print(hoogste(getal1, getal2, getal3))\n",
    "print(hoogste(getal1, getal2, getal3, getal4))"
   ]
  },
  {
   "cell_type": "code",
   "execution_count": 11,
   "metadata": {},
   "outputs": [
    {
     "name": "stdout",
     "output_type": "stream",
     "text": [
      "546\n"
     ]
    }
   ],
   "source": [
    "t = {23,546,87,23,87,324}\n",
    "print(hoogste(*t))"
   ]
  },
  {
   "cell_type": "code",
   "execution_count": 18,
   "metadata": {},
   "outputs": [
    {
     "name": "stdout",
     "output_type": "stream",
     "text": [
      "['', '/Users/peter/miniconda3/lib/python36.zip', '/Users/peter/miniconda3/lib/python3.6', '/Users/peter/miniconda3/lib/python3.6/lib-dynload', '/Users/peter/miniconda3/lib/python3.6/site-packages', '/Users/peter/miniconda3/lib/python3.6/site-packages/IPython/extensions', '/Users/peter/.ipython']\n",
      "\n",
      "/Users/peter/miniconda3/lib/python36.zip\n",
      "/Users/peter/miniconda3/lib/python3.6\n",
      "/Users/peter/miniconda3/lib/python3.6/lib-dynload\n",
      "/Users/peter/miniconda3/lib/python3.6/site-packages\n",
      "/Users/peter/miniconda3/lib/python3.6/site-packages/IPython/extensions\n",
      "/Users/peter/.ipython\n"
     ]
    }
   ],
   "source": [
    "import sys\n",
    "print(sys.path)\n",
    "print(*sys.path, sep='\\n')"
   ]
  },
  {
   "cell_type": "markdown",
   "metadata": {},
   "source": [
    "#### Auguments with default values"
   ]
  },
  {
   "cell_type": "code",
   "execution_count": 12,
   "metadata": {},
   "outputs": [],
   "source": [
    "def vlucht(vanaf, naar, aantal_volwassenen=1, aantal_kinderen=0):\n",
    "    print('Vlucht van {} naar {} met {} volwassenen en {} kinderen'.format(vanaf,\n",
    "                                                                       naar,\n",
    "                                                                       aantal_volwassenen,\n",
    "                                                                       aantal_kinderen))"
   ]
  },
  {
   "cell_type": "markdown",
   "metadata": {},
   "source": [
    "#### Keyword arguments"
   ]
  },
  {
   "cell_type": "code",
   "execution_count": 13,
   "metadata": {},
   "outputs": [
    {
     "name": "stdout",
     "output_type": "stream",
     "text": [
      "Vlucht van AMS naar LHR met 2 volwassenen en 2 kinderen\n",
      "Vlucht van AMS naar LHR met 1 volwassenen en 0 kinderen\n",
      "Vlucht van AMS naar LHR met 1 volwassenen en 4 kinderen\n",
      "Vlucht van AMS naar LHR met 1 volwassenen en zeven kinderen\n",
      "Vlucht van CHP naar OSL met 4 volwassenen en 0 kinderen\n"
     ]
    }
   ],
   "source": [
    "vlucht('AMS', 'LHR', 2, 2)\n",
    "vlucht('AMS', 'LHR')\n",
    "vlucht('AMS', 'LHR', aantal_kinderen=4)\n",
    "vlucht('AMS', 'LHR', aantal_kinderen='zeven')\n",
    "vlucht(vanaf='CHP', naar='OSL', aantal_volwassenen=4)"
   ]
  },
  {
   "cell_type": "markdown",
   "metadata": {},
   "source": [
    "#### unpacking a dict as to keyword arguments"
   ]
  },
  {
   "cell_type": "code",
   "execution_count": 14,
   "metadata": {},
   "outputs": [],
   "source": [
    "vlucht_gegevens = {\n",
    "    'vanaf': 'AMS',\n",
    "    'naar': 'CHI',\n",
    "    'aantal_volwassenen': 2,\n",
    "    'aantal_kinderen': 3\n",
    "}"
   ]
  },
  {
   "cell_type": "code",
   "execution_count": 15,
   "metadata": {},
   "outputs": [
    {
     "name": "stdout",
     "output_type": "stream",
     "text": [
      "Vlucht van AMS naar CHI met 2 volwassenen en 3 kinderen\n"
     ]
    }
   ],
   "source": [
    "vlucht(**vlucht_gegevens)"
   ]
  },
  {
   "cell_type": "code",
   "execution_count": 16,
   "metadata": {},
   "outputs": [
    {
     "name": "stdout",
     "output_type": "stream",
     "text": [
      "['is', 'dit', 'met', 'tekst', 'woorden', 'verschillende']\n"
     ]
    }
   ],
   "source": [
    "zin = 'dit is tekst met verschillende woorden'\n",
    "woorden = zin.split()\n",
    "\n",
    "#woorden.sort()\n",
    "\n",
    "woorden = sorted(woorden, reverse=False, key=len)\n",
    "\n",
    "print(woorden)"
   ]
  },
  {
   "cell_type": "code",
   "execution_count": 17,
   "metadata": {},
   "outputs": [
    {
     "data": {
      "text/plain": [
       "builtin_function_or_method"
      ]
     },
     "execution_count": 17,
     "metadata": {},
     "output_type": "execute_result"
    }
   ],
   "source": [
    "type(len)"
   ]
  },
  {
   "cell_type": "code",
   "execution_count": 18,
   "metadata": {},
   "outputs": [],
   "source": [
    "f = len"
   ]
  },
  {
   "cell_type": "code",
   "execution_count": 19,
   "metadata": {},
   "outputs": [
    {
     "data": {
      "text/plain": [
       "4"
      ]
     },
     "execution_count": 19,
     "metadata": {},
     "output_type": "execute_result"
    }
   ],
   "source": [
    "f('abcd')"
   ]
  },
  {
   "cell_type": "code",
   "execution_count": 20,
   "metadata": {},
   "outputs": [
    {
     "data": {
      "text/plain": [
       "['is', 'dit', 'met', 'tekst', 'woorden', 'verschillende']"
      ]
     },
     "execution_count": 20,
     "metadata": {},
     "output_type": "execute_result"
    }
   ],
   "source": [
    "woorden"
   ]
  },
  {
   "cell_type": "code",
   "execution_count": 21,
   "metadata": {},
   "outputs": [
    {
     "data": {
      "text/plain": [
       "[2, 3, 3, 5, 7, 13]"
      ]
     },
     "execution_count": 21,
     "metadata": {},
     "output_type": "execute_result"
    }
   ],
   "source": [
    "[len(w) for w in woorden] # list comprehension"
   ]
  },
  {
   "cell_type": "code",
   "execution_count": 121,
   "metadata": {},
   "outputs": [
    {
     "data": {
      "text/plain": [
       "[2, 3, 3, 5, 7, 13]"
      ]
     },
     "execution_count": 121,
     "metadata": {},
     "output_type": "execute_result"
    }
   ],
   "source": [
    "list(map(len, woorden))"
   ]
  },
  {
   "cell_type": "markdown",
   "metadata": {},
   "source": [
    "# Generators"
   ]
  },
  {
   "cell_type": "code",
   "execution_count": 23,
   "metadata": {},
   "outputs": [
    {
     "data": {
      "text/plain": [
       "<map at 0x10d50ee10>"
      ]
     },
     "execution_count": 23,
     "metadata": {},
     "output_type": "execute_result"
    }
   ],
   "source": [
    "map(len, woorden)"
   ]
  },
  {
   "cell_type": "code",
   "execution_count": 24,
   "metadata": {},
   "outputs": [
    {
     "data": {
      "text/plain": [
       "range(0, 10000000)"
      ]
     },
     "execution_count": 24,
     "metadata": {},
     "output_type": "execute_result"
    }
   ],
   "source": [
    "range(10000000)"
   ]
  },
  {
   "cell_type": "markdown",
   "metadata": {},
   "source": [
    "# Counting words in a text"
   ]
  },
  {
   "cell_type": "code",
   "execution_count": 61,
   "metadata": {},
   "outputs": [],
   "source": [
    "tekst = '''This page is a curated collection of Jupyter/IPython notebooks that are notable. Feel free to add new content here, but please try to only include links to notebooks that include interesting visual or technical content; this should not simply be a dump of a Google search on every ipynb file out there.\n",
    "Important contribution instructions: If you add new content, please ensure that for any notebook you link to, the link is to the rendered version using nbviewer, rather than the raw file. Simply paste the notebook URL in the nbviewer box and copy the resulting URL of the rendered version. This will make it much easier for visitors to be able to immediately access the new content.\n",
    "Note that Matt Davis has conveniently written a set of bookmarklets and extensions to make it a one-click affair to load a Notebook URL into your browser of choice, directly opening into nbviewer.'''"
   ]
  },
  {
   "cell_type": "code",
   "execution_count": 62,
   "metadata": {},
   "outputs": [],
   "source": [
    "import re\n",
    "tekst = re.sub(r'[^a-z\\s]', '', tekst.lower())\n",
    "\n",
    "woorden = tekst.split()\n",
    "\n",
    "unieke_woorden = set(woorden)\n",
    "\n",
    "d = {w:woorden.count(w) for w in unieke_woorden}"
   ]
  },
  {
   "cell_type": "code",
   "execution_count": 64,
   "metadata": {},
   "outputs": [
    {
     "name": "stdout",
     "output_type": "stream",
     "text": [
      "to                   :   9\n",
      "the                  :   8\n",
      "a                    :   6\n",
      "of                   :   5\n",
      "content              :   4\n",
      "that                 :   4\n",
      "url                  :   3\n",
      "notebook             :   3\n",
      "new                  :   3\n",
      "this                 :   3\n",
      "nbviewer             :   3\n",
      "make                 :   2\n",
      "simply               :   2\n",
      "for                  :   2\n",
      "link                 :   2\n",
      "rendered             :   2\n",
      "and                  :   2\n",
      "you                  :   2\n",
      "is                   :   2\n",
      "it                   :   2\n",
      "into                 :   2\n",
      "add                  :   2\n",
      "version              :   2\n",
      "include              :   2\n",
      "please               :   2\n",
      "notebooks            :   2\n",
      "be                   :   2\n",
      "file                 :   2\n",
      "easier               :   1\n",
      "every                :   1\n",
      "page                 :   1\n",
      "are                  :   1\n",
      "ensure               :   1\n",
      "set                  :   1\n",
      "dump                 :   1\n",
      "try                  :   1\n",
      "should               :   1\n",
      "will                 :   1\n",
      "davis                :   1\n",
      "than                 :   1\n",
      "copy                 :   1\n",
      "search               :   1\n",
      "much                 :   1\n",
      "written              :   1\n",
      "technical            :   1\n",
      "curated              :   1\n",
      "free                 :   1\n",
      "using                :   1\n",
      "rather               :   1\n",
      "immediately          :   1\n",
      "visitors             :   1\n",
      "extensions           :   1\n",
      "conveniently         :   1\n",
      "affair               :   1\n",
      "oneclick             :   1\n",
      "links                :   1\n",
      "bookmarklets         :   1\n",
      "paste                :   1\n",
      "if                   :   1\n",
      "box                  :   1\n",
      "google               :   1\n",
      "matt                 :   1\n",
      "on                   :   1\n",
      "raw                  :   1\n",
      "your                 :   1\n",
      "not                  :   1\n",
      "able                 :   1\n",
      "or                   :   1\n",
      "opening              :   1\n",
      "load                 :   1\n",
      "there                :   1\n",
      "ipynb                :   1\n",
      "contribution         :   1\n",
      "in                   :   1\n",
      "collection           :   1\n",
      "visual               :   1\n",
      "directly             :   1\n",
      "jupyteripython       :   1\n",
      "any                  :   1\n",
      "resulting            :   1\n",
      "only                 :   1\n",
      "notable              :   1\n",
      "but                  :   1\n",
      "interesting          :   1\n",
      "important            :   1\n",
      "instructions         :   1\n",
      "access               :   1\n",
      "has                  :   1\n",
      "browser              :   1\n",
      "feel                 :   1\n",
      "here                 :   1\n",
      "choice               :   1\n",
      "note                 :   1\n",
      "out                  :   1\n"
     ]
    }
   ],
   "source": [
    "for woord, n in sorted(d.items(), key = lambda kv: kv[1], reverse = True):\n",
    "    print('%-20s : %3d' % (woord, n))"
   ]
  },
  {
   "cell_type": "markdown",
   "metadata": {},
   "source": [
    "#### Lambda"
   ]
  },
  {
   "cell_type": "code",
   "execution_count": null,
   "metadata": {},
   "outputs": [],
   "source": [
    "def telop(a, b):\n",
    "    return a + b\n",
    "\n",
    "telop = lambda a, b: a + b"
   ]
  },
  {
   "cell_type": "markdown",
   "metadata": {},
   "source": [
    "# Pandas"
   ]
  },
  {
   "cell_type": "code",
   "execution_count": 149,
   "metadata": {},
   "outputs": [],
   "source": [
    "import pandas as pd"
   ]
  },
  {
   "cell_type": "code",
   "execution_count": 152,
   "metadata": {},
   "outputs": [
    {
     "data": {
      "text/html": [
       "<div>\n",
       "<style scoped>\n",
       "    .dataframe tbody tr th:only-of-type {\n",
       "        vertical-align: middle;\n",
       "    }\n",
       "\n",
       "    .dataframe tbody tr th {\n",
       "        vertical-align: top;\n",
       "    }\n",
       "\n",
       "    .dataframe thead th {\n",
       "        text-align: right;\n",
       "    }\n",
       "</style>\n",
       "<table border=\"1\" class=\"dataframe\">\n",
       "  <thead>\n",
       "    <tr style=\"text-align: right;\">\n",
       "      <th></th>\n",
       "      <th>col1</th>\n",
       "      <th>col2</th>\n",
       "      <th>col3</th>\n",
       "      <th>col4</th>\n",
       "    </tr>\n",
       "  </thead>\n",
       "  <tbody>\n",
       "    <tr>\n",
       "      <th>0</th>\n",
       "      <td>12</td>\n",
       "      <td>34</td>\n",
       "      <td>56.0</td>\n",
       "      <td>’A’</td>\n",
       "    </tr>\n",
       "    <tr>\n",
       "      <th>1</th>\n",
       "      <td>12</td>\n",
       "      <td>54</td>\n",
       "      <td>453.9</td>\n",
       "      <td>’B’</td>\n",
       "    </tr>\n",
       "    <tr>\n",
       "      <th>2</th>\n",
       "      <td>56</td>\n",
       "      <td>23</td>\n",
       "      <td>2.3</td>\n",
       "      <td>‘C’</td>\n",
       "    </tr>\n",
       "    <tr>\n",
       "      <th>3</th>\n",
       "      <td>65</td>\n",
       "      <td>45</td>\n",
       "      <td>9.0</td>\n",
       "      <td>‘C’</td>\n",
       "    </tr>\n",
       "  </tbody>\n",
       "</table>\n",
       "</div>"
      ],
      "text/plain": [
       "   col1  col2   col3  col4\n",
       "0    12    34   56.0   ’A’\n",
       "1    12    54  453.9   ’B’\n",
       "2    56    23    2.3   ‘C’\n",
       "3    65    45    9.0   ‘C’"
      ]
     },
     "execution_count": 152,
     "metadata": {},
     "output_type": "execute_result"
    }
   ],
   "source": [
    "df = pd.read_csv('C:/temp/data.csv')\n",
    "df"
   ]
  },
  {
   "cell_type": "code",
   "execution_count": 158,
   "metadata": {},
   "outputs": [
    {
     "data": {
      "text/html": [
       "<div>\n",
       "<style scoped>\n",
       "    .dataframe tbody tr th:only-of-type {\n",
       "        vertical-align: middle;\n",
       "    }\n",
       "\n",
       "    .dataframe tbody tr th {\n",
       "        vertical-align: top;\n",
       "    }\n",
       "\n",
       "    .dataframe thead th {\n",
       "        text-align: right;\n",
       "    }\n",
       "</style>\n",
       "<table border=\"1\" class=\"dataframe\">\n",
       "  <thead>\n",
       "    <tr style=\"text-align: right;\">\n",
       "      <th></th>\n",
       "      <th>col4</th>\n",
       "      <th>col1</th>\n",
       "    </tr>\n",
       "  </thead>\n",
       "  <tbody>\n",
       "    <tr>\n",
       "      <th>0</th>\n",
       "      <td>’A’</td>\n",
       "      <td>12</td>\n",
       "    </tr>\n",
       "    <tr>\n",
       "      <th>1</th>\n",
       "      <td>’B’</td>\n",
       "      <td>12</td>\n",
       "    </tr>\n",
       "    <tr>\n",
       "      <th>2</th>\n",
       "      <td>‘C’</td>\n",
       "      <td>56</td>\n",
       "    </tr>\n",
       "    <tr>\n",
       "      <th>3</th>\n",
       "      <td>‘C’</td>\n",
       "      <td>65</td>\n",
       "    </tr>\n",
       "  </tbody>\n",
       "</table>\n",
       "</div>"
      ],
      "text/plain": [
       "   col4  col1\n",
       "0   ’A’    12\n",
       "1   ’B’    12\n",
       "2   ‘C’    56\n",
       "3   ‘C’    65"
      ]
     },
     "execution_count": 158,
     "metadata": {},
     "output_type": "execute_result"
    }
   ],
   "source": [
    "df[['col4','col1']]"
   ]
  },
  {
   "cell_type": "code",
   "execution_count": 175,
   "metadata": {},
   "outputs": [
    {
     "data": {
      "text/html": [
       "<div>\n",
       "<style scoped>\n",
       "    .dataframe tbody tr th:only-of-type {\n",
       "        vertical-align: middle;\n",
       "    }\n",
       "\n",
       "    .dataframe tbody tr th {\n",
       "        vertical-align: top;\n",
       "    }\n",
       "\n",
       "    .dataframe thead th {\n",
       "        text-align: right;\n",
       "    }\n",
       "</style>\n",
       "<table border=\"1\" class=\"dataframe\">\n",
       "  <thead>\n",
       "    <tr style=\"text-align: right;\">\n",
       "      <th></th>\n",
       "      <th>col1</th>\n",
       "      <th>col2</th>\n",
       "      <th>col3</th>\n",
       "      <th>col4</th>\n",
       "    </tr>\n",
       "  </thead>\n",
       "  <tbody>\n",
       "    <tr>\n",
       "      <th>0</th>\n",
       "      <td>12</td>\n",
       "      <td>34</td>\n",
       "      <td>56.0</td>\n",
       "      <td>’A’</td>\n",
       "    </tr>\n",
       "    <tr>\n",
       "      <th>2</th>\n",
       "      <td>56</td>\n",
       "      <td>23</td>\n",
       "      <td>2.3</td>\n",
       "      <td>‘C’</td>\n",
       "    </tr>\n",
       "    <tr>\n",
       "      <th>3</th>\n",
       "      <td>65</td>\n",
       "      <td>45</td>\n",
       "      <td>9.0</td>\n",
       "      <td>‘C’</td>\n",
       "    </tr>\n",
       "  </tbody>\n",
       "</table>\n",
       "</div>"
      ],
      "text/plain": [
       "   col1  col2  col3  col4\n",
       "0    12    34  56.0   ’A’\n",
       "2    56    23   2.3   ‘C’\n",
       "3    65    45   9.0   ‘C’"
      ]
     },
     "execution_count": 175,
     "metadata": {},
     "output_type": "execute_result"
    }
   ],
   "source": [
    "df[df['col2']<50]"
   ]
  },
  {
   "cell_type": "code",
   "execution_count": 176,
   "metadata": {},
   "outputs": [],
   "source": [
    "df['col5'] = df['col1'] + df['col2']"
   ]
  },
  {
   "cell_type": "code",
   "execution_count": 177,
   "metadata": {},
   "outputs": [
    {
     "data": {
      "text/html": [
       "<div>\n",
       "<style scoped>\n",
       "    .dataframe tbody tr th:only-of-type {\n",
       "        vertical-align: middle;\n",
       "    }\n",
       "\n",
       "    .dataframe tbody tr th {\n",
       "        vertical-align: top;\n",
       "    }\n",
       "\n",
       "    .dataframe thead th {\n",
       "        text-align: right;\n",
       "    }\n",
       "</style>\n",
       "<table border=\"1\" class=\"dataframe\">\n",
       "  <thead>\n",
       "    <tr style=\"text-align: right;\">\n",
       "      <th></th>\n",
       "      <th>col1</th>\n",
       "      <th>col2</th>\n",
       "      <th>col3</th>\n",
       "      <th>col4</th>\n",
       "      <th>col5</th>\n",
       "    </tr>\n",
       "  </thead>\n",
       "  <tbody>\n",
       "    <tr>\n",
       "      <th>0</th>\n",
       "      <td>12</td>\n",
       "      <td>34</td>\n",
       "      <td>56.0</td>\n",
       "      <td>’A’</td>\n",
       "      <td>46</td>\n",
       "    </tr>\n",
       "    <tr>\n",
       "      <th>1</th>\n",
       "      <td>12</td>\n",
       "      <td>54</td>\n",
       "      <td>453.9</td>\n",
       "      <td>’B’</td>\n",
       "      <td>66</td>\n",
       "    </tr>\n",
       "    <tr>\n",
       "      <th>2</th>\n",
       "      <td>56</td>\n",
       "      <td>23</td>\n",
       "      <td>2.3</td>\n",
       "      <td>‘C’</td>\n",
       "      <td>79</td>\n",
       "    </tr>\n",
       "    <tr>\n",
       "      <th>3</th>\n",
       "      <td>65</td>\n",
       "      <td>45</td>\n",
       "      <td>9.0</td>\n",
       "      <td>‘C’</td>\n",
       "      <td>110</td>\n",
       "    </tr>\n",
       "  </tbody>\n",
       "</table>\n",
       "</div>"
      ],
      "text/plain": [
       "   col1  col2   col3  col4  col5\n",
       "0    12    34   56.0   ’A’    46\n",
       "1    12    54  453.9   ’B’    66\n",
       "2    56    23    2.3   ‘C’    79\n",
       "3    65    45    9.0   ‘C’   110"
      ]
     },
     "execution_count": 177,
     "metadata": {},
     "output_type": "execute_result"
    }
   ],
   "source": [
    "df"
   ]
  },
  {
   "cell_type": "code",
   "execution_count": null,
   "metadata": {},
   "outputs": [],
   "source": []
  }
 ],
 "metadata": {
  "kernelspec": {
   "display_name": "Python 3",
   "language": "python",
   "name": "python3"
  },
  "language_info": {
   "codemirror_mode": {
    "name": "ipython",
    "version": 3
   },
   "file_extension": ".py",
   "mimetype": "text/x-python",
   "name": "python",
   "nbconvert_exporter": "python",
   "pygments_lexer": "ipython3",
   "version": "3.7.1"
  }
 },
 "nbformat": 4,
 "nbformat_minor": 2
}
